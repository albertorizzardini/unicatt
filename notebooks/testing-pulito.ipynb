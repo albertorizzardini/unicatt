{
 "cells": [
  {
   "cell_type": "code",
   "execution_count": null,
   "metadata": {
    "colab": {},
    "colab_type": "code",
    "id": "hWTNHwMZN-MV"
   },
   "outputs": [],
   "source": [
    "import numpy as np\n",
    "import pandas as pd\n",
    "import string"
   ]
  },
  {
   "cell_type": "code",
   "execution_count": null,
   "metadata": {
    "colab": {
     "base_uri": "https://localhost:8080/",
     "height": 72
    },
    "colab_type": "code",
    "id": "_f1SPIrlOIX4",
    "outputId": "eff3dcb3-c4ca-4c85-b074-0829613e6231"
   },
   "outputs": [],
   "source": [
    "x = { 'tag':[ string.ascii_lowercase[np.random.randint(0,5)] for i in range(20) ], \\\n",
    "     'col1':np.arange(10), 'col2':np.random.randint(0,100,10)}\n",
    "x"
   ]
  },
  {
   "cell_type": "code",
   "execution_count": null,
   "metadata": {
    "colab": {
     "base_uri": "https://localhost:8080/",
     "height": 363
    },
    "colab_type": "code",
    "id": "DeP670zBOybQ",
    "outputId": "2543a0c8-4e09-43f1-869d-44d8819f915a"
   },
   "outputs": [],
   "source": [
    "df = pd.DataFrame.from_dict(x);\n",
    "df"
   ]
  },
  {
   "cell_type": "code",
   "execution_count": null,
   "metadata": {
    "colab": {},
    "colab_type": "code",
    "id": "e-ZtljiBPASX"
   },
   "outputs": [],
   "source": [
    "df.set_index('tag', inplace=True)\n"
   ]
  },
  {
   "cell_type": "code",
   "execution_count": null,
   "metadata": {
    "colab": {
     "base_uri": "https://localhost:8080/",
     "height": 394
    },
    "colab_type": "code",
    "id": "kRAceebQTQgQ",
    "outputId": "6f75076d-343f-4dc2-99a1-94c327b948f5"
   },
   "outputs": [],
   "source": [
    "df"
   ]
  },
  {
   "cell_type": "code",
   "execution_count": null,
   "metadata": {
    "colab": {
     "base_uri": "https://localhost:8080/",
     "height": 128
    },
    "colab_type": "code",
    "id": "as2Zs41ITSFM",
    "outputId": "52683099-df8a-4692-aa2f-b8dd2f753ab5"
   },
   "outputs": [],
   "source": [
    "df.col1.groupby('tag').count()"
   ]
  },
  {
   "cell_type": "code",
   "execution_count": null,
   "metadata": {
    "colab": {
     "base_uri": "https://localhost:8080/",
     "height": 206
    },
    "colab_type": "code",
    "id": "xCun9Ly4U1ID",
    "outputId": "5f344a30-ec28-4d3f-ac62-8d691b14a512"
   },
   "outputs": [],
   "source": [
    "df.groupby('tag').count()"
   ]
  },
  {
   "cell_type": "code",
   "execution_count": null,
   "metadata": {
    "colab": {
     "base_uri": "https://localhost:8080/",
     "height": 35
    },
    "colab_type": "code",
    "id": "4gsZOEUPVJOA",
    "outputId": "2ab2bfc5-ba5e-4871-adb6-d7c240facd83"
   },
   "outputs": [],
   "source": [
    "df.iloc[0,1]=np.nan\n",
    "df.iloc[0,1]"
   ]
  },
  {
   "cell_type": "code",
   "execution_count": null,
   "metadata": {
    "colab": {
     "base_uri": "https://localhost:8080/",
     "height": 206
    },
    "colab_type": "code",
    "id": "JG4KJMjfVkk1",
    "outputId": "81f45645-0e11-415d-d88d-fd770fd53dd6"
   },
   "outputs": [],
   "source": [
    "df.groupby('tag').count()"
   ]
  },
  {
   "cell_type": "code",
   "execution_count": null,
   "metadata": {
    "colab": {
     "base_uri": "https://localhost:8080/",
     "height": 201
    },
    "colab_type": "code",
    "id": "zUvkPg_oVv2a",
    "outputId": "e2812242-a11d-47c5-9986-73cbb407977c"
   },
   "outputs": [],
   "source": [
    "df.to_numpy()\n"
   ]
  },
  {
   "cell_type": "code",
   "execution_count": null,
   "metadata": {
    "colab": {
     "base_uri": "https://localhost:8080/",
     "height": 54
    },
    "colab_type": "code",
    "id": "pafM8eBuZGgv",
    "outputId": "adf4cd47-d548-48bb-c551-a8e65f28506c"
   },
   "outputs": [],
   "source": [
    "class Dice:\n",
    "  def __init__(self, nfaces=6):\n",
    "    self.number_of_faces = nfaces\n",
    "    self.number_of_rolls = 0\n",
    "    self.roll()\n",
    "\n",
    "  def roll(self):\n",
    "    self.number_of_rolls += 1\n",
    "    self.myvalue = np.random.randint(1,self.number_of_faces+1)\n",
    "    return self.myvalue\n",
    "\n",
    "  def value(self):\n",
    "    return self.myvalue\n",
    "\n",
    "  def numberOfRolls(self):\n",
    "    return self.number_of_rolls\n",
    "\n",
    "  def numberOfFaces(self):\n",
    "    return number_of_faces\n",
    "\n",
    "  def __str__(self):\n",
    "    return str(self.myvalue)\n",
    "\n",
    "  def __add__(self, other):\n",
    "    return self.myvalue+other.myvalue\n",
    "\n",
    "  def __repr__(self):\n",
    "    return self.__str__()\n",
    "\n",
    "d1 = Dice()\n",
    "d2 = Dice()\n",
    "x=d1+d2\n",
    "print(d1, d2, d1.numberOfRolls())\n",
    "d1\n"
   ]
  },
  {
   "cell_type": "code",
   "execution_count": null,
   "metadata": {
    "colab": {
     "base_uri": "https://localhost:8080/",
     "height": 146
    },
    "colab_type": "code",
    "id": "YF6S7ks8bCOB",
    "outputId": "04f32b6e-b76b-4f6d-8951-879a6afd85a1"
   },
   "outputs": [],
   "source": [
    "x = pd.Series([ d1.roll() for i in range(100)])\n",
    "x.value_counts()"
   ]
  },
  {
   "cell_type": "code",
   "execution_count": null,
   "metadata": {
    "colab": {},
    "colab_type": "code",
    "id": "eny84huR_l2I"
   },
   "outputs": [],
   "source": []
  },
  {
   "cell_type": "code",
   "execution_count": null,
   "metadata": {
    "colab": {
     "base_uri": "https://localhost:8080/",
     "height": 35
    },
    "colab_type": "code",
    "id": "geDS1P3JbVaf",
    "outputId": "13b106d7-581e-4b8d-844e-843d2f56ef51"
   },
   "outputs": [],
   "source": [
    "x = { 'a':1, 'b':2, 'c':3}\n",
    "x['d']=4\n",
    "x"
   ]
  },
  {
   "cell_type": "code",
   "execution_count": null,
   "metadata": {
    "colab": {},
    "colab_type": "code",
    "id": "BBzMN5ZfANmA"
   },
   "outputs": [],
   "source": [
    "x  = {'a':[1,2,3,4], 'b':[4,5,6,7]}"
   ]
  },
  {
   "cell_type": "code",
   "execution_count": null,
   "metadata": {
    "colab": {
     "base_uri": "https://localhost:8080/",
     "height": 175
    },
    "colab_type": "code",
    "id": "Md6ctG2G0FyA",
    "outputId": "18ad0bb4-868f-4aec-9e91-3e0dd824a5c5"
   },
   "outputs": [],
   "source": [
    "df = pd.DataFrame(x)\n",
    "df"
   ]
  },
  {
   "cell_type": "code",
   "execution_count": null,
   "metadata": {
    "colab": {
     "base_uri": "https://localhost:8080/",
     "height": 72
    },
    "colab_type": "code",
    "id": "ilBdlZDd9eN7",
    "outputId": "0d27b0a8-1e24-40bf-b817-b34ab9bafbe3"
   },
   "outputs": [],
   "source": [
    "df.iloc[2]"
   ]
  },
  {
   "cell_type": "code",
   "execution_count": null,
   "metadata": {
    "colab": {
     "base_uri": "https://localhost:8080/",
     "height": 293
    },
    "colab_type": "code",
    "id": "0zifa3axAoAs",
    "outputId": "f0cb1370-96f8-4f74-ab20-5b2f472e24b7"
   },
   "outputs": [],
   "source": [
    "df = pd.read_excel(\"http://www.dmf.unicatt.it/~tessera/sales-funnel.xlsx\")\n",
    "df.head()"
   ]
  },
  {
   "cell_type": "code",
   "execution_count": null,
   "metadata": {
    "colab": {},
    "colab_type": "code",
    "id": "Xdqigy4aBe_5"
   },
   "outputs": [],
   "source": [
    "df[\"Status\"] = df[\"Status\"].astype(\"category\")"
   ]
  },
  {
   "cell_type": "code",
   "execution_count": null,
   "metadata": {
    "colab": {
     "base_uri": "https://localhost:8080/",
     "height": 227
    },
    "colab_type": "code",
    "id": "JkyHn9GKE7o0",
    "outputId": "7e05fac5-9bfc-4fef-9745-80f02a207cd7"
   },
   "outputs": [],
   "source": [
    "df2=df.set_index('Name')\n",
    "df2.loc['Trantow-Barrows']"
   ]
  },
  {
   "cell_type": "code",
   "execution_count": null,
   "metadata": {
    "colab": {
     "base_uri": "https://localhost:8080/",
     "height": 488
    },
    "colab_type": "code",
    "id": "gIRGs8PbEe4m",
    "outputId": "aa91b47f-dff7-48b3-a5f4-b3da1b586128"
   },
   "outputs": [],
   "source": [
    "del(df2)\n",
    "pd.pivot_table(df,index=[\"Name\"],values=[\"Quantity\",\"Price\"],aggfunc=[np.sum, np.mean])"
   ]
  },
  {
   "cell_type": "code",
   "execution_count": null,
   "metadata": {
    "colab": {
     "base_uri": "https://localhost:8080/",
     "height": 237
    },
    "colab_type": "code",
    "id": "pR0x4GNUEuyD",
    "outputId": "bbd5d87a-4925-4cab-81be-b18764b373de"
   },
   "outputs": [],
   "source": [
    "pd.pivot_table(df,index=[\"Manager\", \"Rep\"],values=[\"Quantity\",\"Price\"],aggfunc=np.sum)"
   ]
  },
  {
   "cell_type": "code",
   "execution_count": null,
   "metadata": {
    "colab": {
     "base_uri": "https://localhost:8080/",
     "height": 376
    },
    "colab_type": "code",
    "id": "NJqt9xLMEiSM",
    "outputId": "7bcd98d4-3884-4dde-f963-9f67e207de48"
   },
   "outputs": [],
   "source": [
    "pd.pivot_table(df,index=[\"Manager\", \"Rep\"],values=[\"Quantity\",\"Price\"],columns=[\"Product\"] , aggfunc=np.sum , fill_value=0)"
   ]
  },
  {
   "cell_type": "code",
   "execution_count": null,
   "metadata": {
    "colab": {
     "base_uri": "https://localhost:8080/",
     "height": 488
    },
    "colab_type": "code",
    "id": "mBM1ImeHI_Bs",
    "outputId": "a2ef17de-76e7-4afb-e86e-ab4194c6d781"
   },
   "outputs": [],
   "source": [
    "df.query('Manager == [\"Debra Henley\"]')"
   ]
  },
  {
   "cell_type": "code",
   "execution_count": null,
   "metadata": {
    "colab": {
     "base_uri": "https://localhost:8080/",
     "height": 283
    },
    "colab_type": "code",
    "id": "0asn03NoKSey",
    "outputId": "83cc6657-09a8-42b5-bda6-3c58516e6465"
   },
   "outputs": [],
   "source": [
    "df['Price'].plot()"
   ]
  },
  {
   "cell_type": "code",
   "execution_count": null,
   "metadata": {
    "colab": {},
    "colab_type": "code",
    "id": "or2UUcuImDK-"
   },
   "outputs": [],
   "source": [
    "import matplotlib.pyplot as plt\n"
   ]
  },
  {
   "cell_type": "code",
   "execution_count": null,
   "metadata": {
    "colab": {},
    "colab_type": "code",
    "id": "oPAO6UA1mOMH"
   },
   "outputs": [],
   "source": [
    "import matplotlib.pyplot as plt\n",
    "import numpy as np\n",
    "from sklearn import datasets, linear_model\n",
    "from sklearn.metrics import mean_squared_error, r2_score\n",
    "\n",
    "# Load the diabetes dataset\n",
    "diabetes_X, diabetes_y = datasets.load_diabetes(return_X_y=True)"
   ]
  },
  {
   "cell_type": "code",
   "execution_count": null,
   "metadata": {
    "colab": {},
    "colab_type": "code",
    "id": "sAd7wJFpzuJ7"
   },
   "outputs": [],
   "source": []
  }
 ],
 "metadata": {
  "colab": {
   "collapsed_sections": [],
   "name": "testing.ipynb",
   "provenance": []
  },
  "kernelspec": {
   "display_name": "Python 3",
   "language": "python",
   "name": "python3"
  },
  "language_info": {
   "codemirror_mode": {
    "name": "ipython",
    "version": 3
   },
   "file_extension": ".py",
   "mimetype": "text/x-python",
   "name": "python",
   "nbconvert_exporter": "python",
   "pygments_lexer": "ipython3",
   "version": "3.8.5"
  }
 },
 "nbformat": 4,
 "nbformat_minor": 4
}
